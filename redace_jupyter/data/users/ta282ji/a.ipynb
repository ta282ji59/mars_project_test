{
 "cells": [
  {
   "cell_type": "code",
   "execution_count": 1,
   "id": "e1104b5d-95fb-497f-a2ed-4fd975474ad5",
   "metadata": {
    "tags": []
   },
   "outputs": [
    {
     "name": "stdout",
     "output_type": "stream",
     "text": [
      "❓\n"
     ]
    }
   ],
   "source": [
    "print(\"❓\")"
   ]
  },
  {
   "cell_type": "code",
   "execution_count": null,
   "id": "2e2d2a46-5318-438f-9ff6-f0cf0a6c610a",
   "metadata": {},
   "outputs": [],
   "source": []
  }
 ],
 "metadata": {
  "kernelspec": {
   "display_name": "Python 3 (ipykernel)",
   "language": "python",
   "name": "python3"
  },
  "language_info": {
   "codemirror_mode": {
    "name": "ipython",
    "version": 3
   },
   "file_extension": ".py",
   "mimetype": "text/x-python",
   "name": "python",
   "nbconvert_exporter": "python",
   "pygments_lexer": "ipython3",
   "version": "3.9.20"
  }
 },
 "nbformat": 4,
 "nbformat_minor": 5
}
